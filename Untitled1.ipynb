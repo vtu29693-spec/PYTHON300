{
  "nbformat": 4,
  "nbformat_minor": 0,
  "metadata": {
    "colab": {
      "provenance": [],
      "toc_visible": true,
      "authorship_tag": "ABX9TyMxZ2kq4SbukmTxTvS4qAQr",
      "include_colab_link": true
    },
    "kernelspec": {
      "name": "python3",
      "display_name": "Python 3"
    },
    "language_info": {
      "name": "python"
    }
  },
  "cells": [
    {
      "cell_type": "markdown",
      "metadata": {
        "id": "view-in-github",
        "colab_type": "text"
      },
      "source": [
        "<a href=\"https://colab.research.google.com/github/vtu29693-spec/PYTHON300/blob/MAIN300/Untitled1.ipynb\" target=\"_parent\"><img src=\"https://colab.research.google.com/assets/colab-badge.svg\" alt=\"Open In Colab\"/></a>"
      ]
    },
    {
      "cell_type": "code",
      "source": [
        "import datetime\n",
        "\n",
        "# Input\n",
        "input_date = input(\"Enter the date in MM DD YYYY format: \")\n",
        "month, day, year = map(int, input_date.split())\n",
        "\n",
        "# Check if the year is within the specified constraints\n",
        "if 2000 < year < 3000:\n",
        "    # Convert to datetime object\n",
        "    x = datetime.datetime(year, month, day)\n",
        "    # Get and print the day in capital letters\n",
        "    day_name = x.strftime(\"%A\").upper()\n",
        "    print(day_name)\n",
        "else:\n",
        "    print(\"Year is not within the specified constraints.\")\n",
        "\n"
      ],
      "metadata": {
        "colab": {
          "base_uri": "https://localhost:8080/"
        },
        "id": "aMEc8Ea38Z3r",
        "outputId": "497e251a-9155-4c92-b2cb-5751aa14502d"
      },
      "execution_count": 8,
      "outputs": [
        {
          "output_type": "stream",
          "name": "stdout",
          "text": [
            "Enter the date in MM DD YYYY format: 11 08 2005\n",
            "TUESDAY\n"
          ]
        }
      ]
    },
    {
      "cell_type": "code",
      "source": [
        "from math import pow\n",
        "\n",
        "def compute_armstrong(x):\n",
        "    # Find the number of digits\n",
        "    n = len(str(x))  # Converts the number x to a string.\n",
        "                     # For example, if x is 153, str(x) becomes \"153\".\n",
        "\n",
        "    # Compute the sum of digits each raised to the power n\n",
        "    armstrong_sum = sum(pow(int(i), n) for i in str(x))\n",
        "\n",
        "    # Return True if the number is an Armstrong number\n",
        "    return armstrong_sum == x\n",
        "\n",
        "\n",
        "# Input from user\n",
        "number = int(input(\"Enter a number: \"))\n",
        "\n",
        "# Check and display result\n",
        "if compute_armstrong(number):\n",
        "    print(f\"{number} is an Armstrong number\")\n",
        "else:\n",
        "    print(f\"{number} is not an Armstrong number\")\n"
      ],
      "metadata": {
        "colab": {
          "base_uri": "https://localhost:8080/"
        },
        "id": "5Ipy5KjG8fuO",
        "outputId": "73a84f6b-d224-4ead-f65a-4490b39b7001"
      },
      "execution_count": 9,
      "outputs": [
        {
          "output_type": "stream",
          "name": "stdout",
          "text": [
            "Enter a number: 143\n",
            "143 is not an Armstrong number\n"
          ]
        }
      ]
    },
    {
      "cell_type": "code",
      "source": [
        "import math\n",
        "\n",
        "def edistance(x, y):\n",
        "    # Calculate Euclidean distance between two 2D points\n",
        "    distance = math.sqrt((y[0] - x[0])**2 + (y[1] - x[1])**2)\n",
        "    return distance\n"
      ],
      "metadata": {
        "id": "DZWy0E7Z8vd6"
      },
      "execution_count": 11,
      "outputs": []
    },
    {
      "cell_type": "code",
      "source": [
        "# Main program file: sample_task3.py\n",
        "\n",
        "from T3 import mod1\n",
        "from T3 import mod2\n",
        "\n",
        "# Call display() function from mod1\n",
        "mod1.display()\n",
        "\n",
        "# Call sum() function from mod2\n",
        "res = mod2.sum(1, 2)\n",
        "\n",
        "# Display result\n",
        "print(res)\n"
      ],
      "metadata": {
        "id": "HbunijWw9XfH"
      },
      "execution_count": null,
      "outputs": []
    }
  ]
}